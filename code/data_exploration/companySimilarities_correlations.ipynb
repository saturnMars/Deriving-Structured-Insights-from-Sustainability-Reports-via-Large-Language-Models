{
 "cells": [
  {
   "cell_type": "code",
   "execution_count": 1,
   "metadata": {},
   "outputs": [],
   "source": [
    "import pandas as pd\n",
    "import numpy as np\n",
    "import matplotlib.pyplot as plt\n",
    "import seaborn as sns"
   ]
  },
  {
   "cell_type": "code",
   "execution_count": 2,
   "metadata": {},
   "outputs": [],
   "source": [
    "from os import path, makedirs\n",
    "from json import load\n",
    "from collections import Counter, defaultdict\n",
    "from utils import reorder_matrix\n",
    "from matplotlib.ticker import PercentFormatter"
   ]
  },
  {
   "cell_type": "code",
   "execution_count": 3,
   "metadata": {},
   "outputs": [],
   "source": [
    "plt.rcParams['font.family'] = \"sans-serif\""
   ]
  },
  {
   "cell_type": "markdown",
   "metadata": {},
   "source": [
    "# Load data"
   ]
  },
  {
   "cell_type": "code",
   "execution_count": 4,
   "metadata": {},
   "outputs": [],
   "source": [
    "documents_toIgnore = ['adidas AG', 'AstraZeneca PLC', 'British American Tobacco PLC', 'PepsiCo Inc']"
   ]
  },
  {
   "cell_type": "markdown",
   "metadata": {},
   "source": [
    "## Fiscal years of the companies"
   ]
  },
  {
   "cell_type": "code",
   "execution_count": 5,
   "metadata": {},
   "outputs": [
    {
     "data": {
      "text/plain": [
       "{'3m corporation': 2022,\n",
       " '3i group plc': 2022,\n",
       " 'alcon inc': 2022,\n",
       " 'alibaba group holding limited': 2022,\n",
       " 'alphabet inc': 2022,\n",
       " 'american electric power company inc': 2022,\n",
       " 'apple inc': 2022,\n",
       " 'british land co plc the': 2022,\n",
       " 'builders firstsource inc': 2022,\n",
       " 'campbell soup company': 2022,\n",
       " 'canon inc': 2022,\n",
       " 'carmax inc': 2022,\n",
       " 'commonwealth bank of australia': 2022,\n",
       " 'daikin industries ltd': 2022,\n",
       " 'dupont': 2022,\n",
       " 'fedex corporation': 2022,\n",
       " 'fox corporation': 2022,\n",
       " 'franklin electric co inc': 2022,\n",
       " 'geely automobile holdings ltd': 2022,\n",
       " 'globalfoundries': 2022,\n",
       " 'home depot inc the': 2022,\n",
       " 'hyundai motor co': 2022,\n",
       " 'imperial oil ltd': 2022,\n",
       " 'iveco group nv': 2022,\n",
       " 'kia corp': 2022,\n",
       " 'korean air lines co ltd': 2022,\n",
       " 'kraft heinz co the': 2022,\n",
       " 'lg display co ltd': 2022,\n",
       " 'nvidia corp': 2022,\n",
       " 'novo nordisk a s': 2022,\n",
       " 'paramount resources ltd': 2022,\n",
       " 'stmicroelectronics': 2022,\n",
       " 'samsung electronics co ltd': 2022,\n",
       " 'skywest inc': 2022,\n",
       " 'snam spa': 2022,\n",
       " 'sony corporation': 2022,\n",
       " 'vmware inc': 2022,\n",
       " 'wesco international inc': 2022,\n",
       " 'walmart inc': 2022,\n",
       " 'washington real estate investment trust': 2022,\n",
       " 'activision blizzard inc': 2021,\n",
       " 'adecco group ag': 2021,\n",
       " 'air canada': 2021,\n",
       " 'air liquide sa': 2021,\n",
       " 'amazoncom inc': 2021,\n",
       " 'amplifon': 2021,\n",
       " 'arcelormittal sa': 2021,\n",
       " 'assicurazioni generali spa': 2021,\n",
       " 'astrazeneca plc': 2021,\n",
       " 'bper banca spa': 2021,\n",
       " 'banco santander sa': 2021,\n",
       " 'bank of america corp bofa': 2021,\n",
       " 'bayer ag': 2021,\n",
       " 'british american tobacco plc': 2021,\n",
       " 'cf industries holdings inc': 2021,\n",
       " 'china petroleum chemical corporation': 2021,\n",
       " 'cisco systems inc': 2021,\n",
       " 'coca cola': 2021,\n",
       " 'croda international plc': 2021,\n",
       " 'delta air lines inc': 2021,\n",
       " 'deutsche bank ag': 2021,\n",
       " 'deutsche lufthansa ag': 2021,\n",
       " 'eni spa': 2021,\n",
       " 'edison international': 2021,\n",
       " 'enel spa': 2021,\n",
       " 'first republic bank ca': 2021,\n",
       " 'general motors co gm': 2021,\n",
       " 'goldman sachs group inc the': 2021,\n",
       " 'humana inc': 2021,\n",
       " 'intel corp': 2021,\n",
       " 'intuitive surgical inc': 2021,\n",
       " 'johnson johnson': 2021,\n",
       " 'leonardo spa': 2021,\n",
       " 'lockheed martin corp': 2021,\n",
       " 'mastercard inc': 2021,\n",
       " 'meta platforms inc': 2021,\n",
       " 'microsoft corporation': 2021,\n",
       " 'moderna inc': 2021,\n",
       " 'nestle sa': 2021,\n",
       " 'netflix inc': 2021,\n",
       " 'ppg industries': 2021,\n",
       " 'park hotels resorts inc': 2021,\n",
       " 'petroleo brasileiro sa petrobras': 2021,\n",
       " 'prologis inc': 2021,\n",
       " 'royal bank of canada': 2021,\n",
       " 'royal dutch shell plc': 2021,\n",
       " 'saudi aramco': 2021,\n",
       " 'simon property group inc': 2021,\n",
       " 'sun communities': 2021,\n",
       " 'swisscom ag': 2021,\n",
       " 'tesla inc': 2021,\n",
       " 'texas instruments inc': 2021,\n",
       " 'tokyo gas co ltd': 2021,\n",
       " 'toshiba corp': 2021,\n",
       " 'uber technologies inc': 2021,\n",
       " 'unicredit spa': 2021,\n",
       " 'uniper se': 2021,\n",
       " 'united states steel corp': 2021,\n",
       " 'vertex pharmaceuticals inc': 2021,\n",
       " 'visa inc': 2021,\n",
       " 'walt disney co': 2021,\n",
       " 'yamana gold inc': 2021,\n",
       " 'airbus se': 2020,\n",
       " 'baidu inc': 2020,\n",
       " 'broadcom inc': 2020,\n",
       " 'canadian pacific railway limited': 2020,\n",
       " 'china evergrande group': 2020,\n",
       " 'deutsche wohnen': 2020,\n",
       " 'monster beverage corp': 2020,\n",
       " 'national grid plc': 2020,\n",
       " 'oracle corporation': 2020,\n",
       " 'pepsico inc': 2020,\n",
       " 'saipem spa': 2020,\n",
       " 'telecom italia spa': 2020,\n",
       " 'tesco plc': 2020,\n",
       " 'totalenergies': 2020,\n",
       " 'toyota motor corp': 2020,\n",
       " 'virgin atlantic ltd': 2020,\n",
       " 'aluminum corporation of china limited': 2019,\n",
       " 'vodafone group plc': 2019,\n",
       " 'philip morris international': 2018,\n",
       " 'poste italiane': 2017,\n",
       " 'adidas ag': 2016,\n",
       " 'sligro food group nv': 2015}"
      ]
     },
     "metadata": {},
     "output_type": "display_data"
    },
    {
     "name": "stdout",
     "output_type": "stream",
     "text": [
      "Number of companies: 124\n"
     ]
    }
   ],
   "source": [
    "with open(path.join('..', 'outputs', 'genSRL', 'clustered_t80', 'triples_wizardLM_filtering.json')) as json_file:\n",
    "    triples = load(json_file)\n",
    "\n",
    "# Retrieve the fiscal year of the company\n",
    "company_fiscalYears = dict()\n",
    "for company, company_triples in triples.items():\n",
    "    \n",
    "    if company in documents_toIgnore:\n",
    "        continue\n",
    "    \n",
    "    fiscal_years = [triple['properties']['source'].split('-')[0] for triple in company_triples]\n",
    "    fiscal_years = Counter(fiscal_years).most_common(5)\n",
    "    \n",
    "    if len(fiscal_years) == 1:\n",
    "        company_fiscalYears[company.lower()] = int(fiscal_years[0][0])\n",
    "    else:\n",
    "        raise Exception(f'The company {company} has more than one fiscal year: {fiscal_years}')\n",
    "\n",
    "company_fiscalYears = dict(sorted(company_fiscalYears.items(), key = lambda dict_item: dict_item[1], reverse = True))\n",
    "display(company_fiscalYears)\n",
    "print('Number of companies:', len(company_fiscalYears))"
   ]
  },
  {
   "cell_type": "code",
   "execution_count": 143,
   "metadata": {},
   "outputs": [
    {
     "data": {
      "text/html": [
       "<div>\n",
       "<style scoped>\n",
       "    .dataframe tbody tr th:only-of-type {\n",
       "        vertical-align: middle;\n",
       "    }\n",
       "\n",
       "    .dataframe tbody tr th {\n",
       "        vertical-align: top;\n",
       "    }\n",
       "\n",
       "    .dataframe thead th {\n",
       "        text-align: right;\n",
       "    }\n",
       "</style>\n",
       "<table border=\"1\" class=\"dataframe\">\n",
       "  <thead>\n",
       "    <tr style=\"text-align: right;\">\n",
       "      <th></th>\n",
       "      <th>counter</th>\n",
       "    </tr>\n",
       "  </thead>\n",
       "  <tbody>\n",
       "    <tr>\n",
       "      <th>2015</th>\n",
       "      <td>0.008065</td>\n",
       "    </tr>\n",
       "    <tr>\n",
       "      <th>2016</th>\n",
       "      <td>0.008065</td>\n",
       "    </tr>\n",
       "    <tr>\n",
       "      <th>2017</th>\n",
       "      <td>0.008065</td>\n",
       "    </tr>\n",
       "    <tr>\n",
       "      <th>2018</th>\n",
       "      <td>0.008065</td>\n",
       "    </tr>\n",
       "    <tr>\n",
       "      <th>2019</th>\n",
       "      <td>0.016129</td>\n",
       "    </tr>\n",
       "    <tr>\n",
       "      <th>2020</th>\n",
       "      <td>0.129032</td>\n",
       "    </tr>\n",
       "    <tr>\n",
       "      <th>2021</th>\n",
       "      <td>0.500000</td>\n",
       "    </tr>\n",
       "    <tr>\n",
       "      <th>2022</th>\n",
       "      <td>0.322581</td>\n",
       "    </tr>\n",
       "  </tbody>\n",
       "</table>\n",
       "</div>"
      ],
      "text/plain": [
       "       counter\n",
       "2015  0.008065\n",
       "2016  0.008065\n",
       "2017  0.008065\n",
       "2018  0.008065\n",
       "2019  0.016129\n",
       "2020  0.129032\n",
       "2021  0.500000\n",
       "2022  0.322581"
      ]
     },
     "metadata": {},
     "output_type": "display_data"
    },
    {
     "data": {
      "text/html": [
       "<div>\n",
       "<style scoped>\n",
       "    .dataframe tbody tr th:only-of-type {\n",
       "        vertical-align: middle;\n",
       "    }\n",
       "\n",
       "    .dataframe tbody tr th {\n",
       "        vertical-align: top;\n",
       "    }\n",
       "\n",
       "    .dataframe thead th {\n",
       "        text-align: right;\n",
       "    }\n",
       "</style>\n",
       "<table border=\"1\" class=\"dataframe\">\n",
       "  <thead>\n",
       "    <tr style=\"text-align: right;\">\n",
       "      <th></th>\n",
       "      <th>counter</th>\n",
       "    </tr>\n",
       "  </thead>\n",
       "  <tbody>\n",
       "    <tr>\n",
       "      <th>2015-2019</th>\n",
       "      <td>0.048387</td>\n",
       "    </tr>\n",
       "    <tr>\n",
       "      <th>2020</th>\n",
       "      <td>0.129032</td>\n",
       "    </tr>\n",
       "    <tr>\n",
       "      <th>2021</th>\n",
       "      <td>0.500000</td>\n",
       "    </tr>\n",
       "    <tr>\n",
       "      <th>2022</th>\n",
       "      <td>0.322581</td>\n",
       "    </tr>\n",
       "  </tbody>\n",
       "</table>\n",
       "</div>"
      ],
      "text/plain": [
       "            counter\n",
       "2015-2019  0.048387\n",
       "2020       0.129032\n",
       "2021       0.500000\n",
       "2022       0.322581"
      ]
     },
     "metadata": {},
     "output_type": "display_data"
    },
    {
     "data": {
      "text/html": [
       "<div>\n",
       "<style scoped>\n",
       "    .dataframe tbody tr th:only-of-type {\n",
       "        vertical-align: middle;\n",
       "    }\n",
       "\n",
       "    .dataframe tbody tr th {\n",
       "        vertical-align: top;\n",
       "    }\n",
       "\n",
       "    .dataframe thead th {\n",
       "        text-align: right;\n",
       "    }\n",
       "</style>\n",
       "<table border=\"1\" class=\"dataframe\">\n",
       "  <thead>\n",
       "    <tr style=\"text-align: right;\">\n",
       "      <th></th>\n",
       "      <th>2015-2019</th>\n",
       "      <th>2020</th>\n",
       "      <th>2021</th>\n",
       "      <th>2022</th>\n",
       "    </tr>\n",
       "  </thead>\n",
       "  <tbody>\n",
       "    <tr>\n",
       "      <th>counter</th>\n",
       "      <td>0.048387</td>\n",
       "      <td>0.129032</td>\n",
       "      <td>0.5</td>\n",
       "      <td>0.322581</td>\n",
       "    </tr>\n",
       "  </tbody>\n",
       "</table>\n",
       "</div>"
      ],
      "text/plain": [
       "         2015-2019      2020  2021      2022\n",
       "counter   0.048387  0.129032   0.5  0.322581"
      ]
     },
     "metadata": {},
     "output_type": "display_data"
    },
    {
     "data": {
      "text/plain": [
       "<Figure size 2000x300 with 0 Axes>"
      ]
     },
     "metadata": {},
     "output_type": "display_data"
    },
    {
     "data": {
      "image/png": "[encoded data removed]",
      "text/plain": [
       "<Figure size 1500x200 with 1 Axes>"
      ]
     },
     "metadata": {},
     "output_type": "display_data"
    }
   ],
   "source": [
    "from tkinter import font\n",
    "\n",
    "\n",
    "fiscalYears_df = pd.Series(Counter(company_fiscalYears.values())).rename('counter').sort_index(ascending=True).to_frame()\n",
    "fiscalYears_df /= fiscalYears_df.sum()\n",
    "display(fiscalYears_df)\n",
    "to_aggregate = [2015, 2016, 2017, 2018, 2019]\n",
    "\n",
    "fiscalYears_df = pd.concat([pd.Series(fiscalYears_df.loc[to_aggregate, 'counter'].sum(), index = [f'{to_aggregate[0]}-{to_aggregate[-1]}'], name = 'counter').to_frame(), fiscalYears_df])\n",
    "fiscalYears_df = fiscalYears_df.drop(index = to_aggregate)\n",
    "display(fiscalYears_df)\n",
    "fiscalYears_df= fiscalYears_df.T\n",
    "display(fiscalYears_df)\n",
    "\n",
    "plt.figure(figsize=(20, 3))\n",
    "#sns.barplot(hue = fiscalYears_df.index, x = fiscalYears_df['counter'], orient = 'h', palette='Paired', dodge = False) \n",
    "fiscalYears_df.plot.barh(stacked=True, figsize=(15, 2))\n",
    "plt.xlabel('Company reports (124)', fontsize = 12)\n",
    "#plt.ylabel('Fiscal year',  fontsize = 12)\n",
    "plt.gca().xaxis.set_major_formatter(PercentFormatter(xmax=1, decimals = 0))\n",
    "plt.grid(True, axis = 'x', linestyle = '--', alpha = 0.5)\n",
    "plt.yticks(visible=False)\n",
    "plt.savefig('fiscalYears_distribution.pdf', bbox_inches='tight')\n",
    "plt.show()"
   ]
  },
  {
   "cell_type": "code",
   "execution_count": null,
   "metadata": {},
   "outputs": [],
   "source": [
    "df = pd.read_excel(path.join('..', 'data', 'esgScores.xlsx'), parse_dates = ['Date of Incorporation', 'Date Became Public'])\n",
    "\n",
    "# Parse the fiscal year\n",
    "df['Financial Period'] = df['Financial Period'].str.replace('FY', '').astype(pd.Int32Dtype())\n",
    "df['ESG Financial Period'] = df['ESG Financial Period'].str.replace('FY', '').astype(pd.Int32Dtype())\n",
    "\n",
    "# Rename the column\n",
    "df.rename(columns={'Company': 'Dataset Company Name'}, inplace=True) # 'ESG Financial Period': 'Fiscal Year', \n",
    "\n",
    "# Insert a normalised name column\n",
    "df.insert(loc = 0, column = 'Company', value = df['Dataset Company Name'].str.lower())\n",
    "\n",
    "df.drop(columns = ['Region of Headquarters'], inplace = True)\n",
    "\n",
    "# Remove the rows with no fiscal year\n",
    "df = df.dropna(subset=['ESG Financial Period'])\n",
    "\n",
    "display(df)"
   ]
  },
  {
   "cell_type": "markdown",
   "metadata": {},
   "source": [
    "# Compute the embeddings"
   ]
  },
  {
   "cell_type": "code",
   "execution_count": null,
   "metadata": {},
   "outputs": [],
   "source": [
    "from langchain.embeddings import HuggingFaceInstructEmbeddings, DeterministicFakeEmbedding"
   ]
  },
  {
   "cell_type": "code",
   "execution_count": null,
   "metadata": {},
   "outputs": [],
   "source": [
    "from sklearn.metrics.pairwise import cosine_similarity\n",
    "import statsmodels.api as sm"
   ]
  },
  {
   "cell_type": "code",
   "execution_count": null,
   "metadata": {},
   "outputs": [],
   "source": [
    "\n",
    "def logicsticTransformation(df, verbose = True):\n",
    "    \n",
    "    transformed_df = df.copy()\n",
    "    \n",
    "    for col in df.columns:\n",
    "        \n",
    "        normalised_value = lambda value: (value - df[col].min()) / (df[col].max() - df[col].min()) \n",
    "        # .map(lambda x: x if x > 0 else 0)\n",
    "        \n",
    "        # Define the model\n",
    "        lm = sm.GLM(\n",
    "            endog = df[col].map(lambda x: x if x > 0 else 0),\n",
    "            exog = df[col], \n",
    "            family = sm.families.Binomial(link = sm.families.links.Probit()))\n",
    "\n",
    "        #lm = sm.Logit(endog = df[col].map(normalised_value), exog = df[col])\n",
    "        \n",
    "        # Fit the model\n",
    "        lm_results = lm.fit()\n",
    "        lm_results = lm.fit_constrained('coeff > 0')\n",
    "        \n",
    "        # Transform the variable\n",
    "        transformed_df[col] = lm_results.predict(lm.exog)\n",
    "        \n",
    "        # Plot the results\n",
    "        if verbose:\n",
    "            \n",
    "            print('\\n' + '-' * 30,col, '-' * 30)\n",
    "            \n",
    "            # Visualize model goodness of fit\n",
    "            print(lm_results.summary())\n",
    "            \n",
    "            # Visualize predictions\n",
    "            predictions_df = pd.DataFrame({'x': lm.exog.flatten(), 'y': lm.endog, 'y_hat': transformed_df[col]})\n",
    "            predictions_df['residuals'] = predictions_df['y'] - predictions_df['y_hat']\n",
    "            display(predictions_df.round(4).sort_values(by = 'x'))   \n",
    "            \n",
    "            # Visualize predictions in a scatter plot\n",
    "            sns.scatterplot(x = 'x', y = 'y_hat', data = predictions_df, label = 'Transformed')#, ci = None)\n",
    "            sns.scatterplot(x = 'x', y = 'y', data = predictions_df, label='Actual')#,  ci = None)\n",
    "            plt.legend(loc = 'lower right')\n",
    "            plt.grid()\n",
    "            plt.show()\n",
    "            \n",
    "    return transformed_df"
   ]
  },
  {
   "cell_type": "code",
   "execution_count": null,
   "metadata": {},
   "outputs": [],
   "source": [
    "debug = True\n",
    "\n",
    "if debug:\n",
    "    model = DeterministicFakeEmbedding(size = 768)\n",
    "else:\n",
    "    model = HuggingFaceInstructEmbeddings(model_name = \"hkunlp/instructor-xl\", embed_instruction = \"Represent the title: \") # model_kwargs = {'device': 'cuda'}, \n",
    "   \n",
    "embedded_stringFeatures = dict()   \n",
    "for col in ['Sector','Industry', 'Country of Headquarters', 'Minor Region of Headquarters']:\n",
    "    print('-'*50, col, '-'*50)\n",
    "    \n",
    "    # Find the unique values\n",
    "    unique_values = df[col].unique().tolist()\n",
    "    \n",
    "    # Create the embeddings for the unique values\n",
    "    embedded_values = np.array(model.embed_documents(unique_values))\n",
    "    \n",
    "    # Compute the cosine similarity\n",
    "    similarity_df = pd.DataFrame(data = cosine_similarity(embedded_values), index = unique_values, columns = unique_values)\n",
    "    #display(similarity_df.round(2))\n",
    "\n",
    "    # Trasform the similarity values in the range [0, 1]\n",
    "    #transformed_similarity_df = logicsticTransformation(similarity_df)\n",
    "    transformed_similarity_df = (similarity_df - similarity_df.min()) / (similarity_df.max() - similarity_df.min())\n",
    "    #display(transformed_similarity_df.round(2))\n",
    "    \n",
    "    embedded_stringFeatures[col] = transformed_similarity_df"
   ]
  },
  {
   "cell_type": "markdown",
   "metadata": {},
   "source": [
    "## Company information"
   ]
  },
  {
   "cell_type": "code",
   "execution_count": null,
   "metadata": {},
   "outputs": [],
   "source": [
    "companyInfo = df.iloc[:, :13].drop_duplicates(subset = ['Refinitiv Company Name']).set_index('Company').sort_index()\n",
    "#display(companyInfo)\n",
    "\n",
    "companyAnnualInfo = df[[df.columns[0]] + list(df.columns[13:])].drop(columns = [colName for colName in df.columns if 'Grade' in colName])\n",
    "companyAnnualInfo = companyAnnualInfo.drop_duplicates()\n",
    "companyAnnualInfo = companyAnnualInfo.set_index(['Company', 'ESG Financial Period']).sort_index()\n",
    "companyAnnualInfo = companyAnnualInfo.astype(np.float32)\n",
    "display(companyAnnualInfo)\n",
    "\n",
    "ratings_df = companyAnnualInfo.iloc[:, -4:]"
   ]
  },
  {
   "cell_type": "markdown",
   "metadata": {},
   "source": [
    "## ESG ratings"
   ]
  },
  {
   "cell_type": "markdown",
   "metadata": {},
   "source": [
    "## Jaccard similarity"
   ]
  },
  {
   "cell_type": "code",
   "execution_count": null,
   "metadata": {},
   "outputs": [],
   "source": [
    "normalise_sim = True"
   ]
  },
  {
   "cell_type": "code",
   "execution_count": null,
   "metadata": {},
   "outputs": [],
   "source": [
    "fileName = path.join('..', 'outputs', 'graph_analyses', 'jaccard_clustered', 'rawJaccardSimilarities_subtractNullModel.xlsx')\n",
    "companySimilarities_df = pd.read_excel(fileName, index_col=[0], sheet_name = 'actions') # categories || actions \n",
    "\n",
    "# Drop invalid documents (i.e., index documents vs textual documents)\n",
    "companySimilarities_df = companySimilarities_df.drop(documents_toIgnore, axis = 'index').drop(documents_toIgnore, axis = 'columns')\n",
    "\n",
    "# Fill empty values with 1 (i.e., the similarity between a document and itself)\n",
    "companySimilarities_df = companySimilarities_df.fillna(1)\n",
    "\n",
    "# Force non-negative jaccard similarty values (due to the subtraction of the null model)\n",
    "if normalise_sim:\n",
    "    minSim = companySimilarities_df.min().min()\n",
    "    maxSim = companySimilarities_df.max().max()\n",
    "    print('[ORIGINAL SIMILARITIES] (Min:', round(minSim, 4), '| Max:', round(maxSim, 4), ')')\n",
    "    companySimilarities_df = (companySimilarities_df - minSim) / (maxSim - minSim)\n",
    "else:\n",
    "    companySimilarities_df = companySimilarities_df #.applymap(lambda sim_value: 0 if sim_value < 0 else sim_value)\n",
    "\n",
    "# Normalise the names of the columns and indexes\n",
    "companySimilarities_df.index = companySimilarities_df.index.str.lower()\n",
    "companySimilarities_df.columns = companySimilarities_df.columns.str.lower()\n",
    "\n",
    "# Sort index\n",
    "companySimilarities_df = companySimilarities_df.sort_index(axis = 'index').sort_index(axis = 'columns')\n",
    "\n",
    "display(pd.DataFrame(companySimilarities_df.to_numpy().flatten(), columns = ['Similarity values']).describe().T.round(2))\n",
    "display(companySimilarities_df)"
   ]
  },
  {
   "cell_type": "markdown",
   "metadata": {},
   "source": [
    "# Correlation analysis"
   ]
  },
  {
   "cell_type": "markdown",
   "metadata": {},
   "source": [
    "## Select the annual data for the companies in the similarity matrix"
   ]
  },
  {
   "cell_type": "code",
   "execution_count": null,
   "metadata": {},
   "outputs": [],
   "source": [
    "missing_companies =  set(company_fiscalYears.keys()) - set(companyAnnualInfo.index.get_level_values('Company').unique())\n",
    "available_companyInformation = {company: fiscalYear for company, fiscalYear in company_fiscalYears.items() if companyAnnualInfo.index.isin([(company, fiscalYear)]).any()}\n",
    "missing_information = {company: fiscalYear for company, fiscalYear in company_fiscalYears.items() if company not in list(available_companyInformation.keys())}\n",
    "\n",
    "print(f'Missing companies ({len(missing_companies)}):', ', '.join(sorted(missing_companies)), '\\n')\n",
    "print(f'Missing information ({len(missing_information)}):\\n' + '-' * 30 + \"\\n\" + '\\n'.join([f'{company}: {fiscalYear}' for company, fiscalYear in sorted(missing_information.items())]))"
   ]
  },
  {
   "cell_type": "code",
   "execution_count": null,
   "metadata": {},
   "outputs": [],
   "source": [
    "companyFiscalYearInfo = companyAnnualInfo.loc[list(available_companyInformation.items()), :].reset_index(level = 1)\n",
    "companyFiscalYearInfo = companyFiscalYearInfo.reindex(\n",
    "    columns = list(companyFiscalYearInfo.columns[1:5]) + ['ESG Financial Period'] + list(companyFiscalYearInfo.columns[5:]))\n",
    "display(companyFiscalYearInfo)"
   ]
  },
  {
   "cell_type": "markdown",
   "metadata": {},
   "source": [
    "### Parameters\n",
    "- *Pearson* Correlation Coefficient: it measures linear relationships (normally distribututed, based on covariance and standard deviation)\n",
    "- **Rank correlation coefficients**: it measure the extent to which, as one variable increases, the other variable tends to increase, without requiring that increase to be represented by a linear relationship\n",
    "    - *Spearman* Correlation Coefficient: it measures monotonic relationships (no assamption on distribution, based on ranked data)\n",
    "    - *Kendall* Correlation Coefficient "
   ]
  },
  {
   "cell_type": "code",
   "execution_count": null,
   "metadata": {},
   "outputs": [],
   "source": [
    "corr_methods = ['spearman', 'kendall', 'pearson']\n",
    "corr_method = corr_methods[1]"
   ]
  },
  {
   "cell_type": "code",
   "execution_count": null,
   "metadata": {},
   "outputs": [],
   "source": [
    "verbose = False"
   ]
  },
  {
   "cell_type": "code",
   "execution_count": null,
   "metadata": {},
   "outputs": [],
   "source": [
    "from scipy.stats import spearmanr, kendalltau, pearsonr, permutation_test"
   ]
  },
  {
   "cell_type": "code",
   "execution_count": null,
   "metadata": {},
   "outputs": [],
   "source": [
    "\n",
    "correlations = defaultdict(dict)\n",
    "differences = defaultdict(dict)\n",
    "raw_features = defaultdict(dict)\n",
    "p_values = defaultdict(list)\n",
    "raw_correlations = dict()\n",
    "diff_methods = dict()\n",
    "\n",
    "for company in companySimilarities_df.index:\n",
    "\n",
    "    if company not in companyFiscalYearInfo.index:\n",
    "        print(f'WARNING: [{company}] Missing annual data for the company.\\n')\n",
    "        continue\n",
    "\n",
    "    if isinstance(companySimilarities_df.loc[company], pd.DataFrame):\n",
    "        display(companySimilarities_df.loc[company]\n",
    "                [sorted(companySimilarities_df.columns)])\n",
    "        raise Exception(\n",
    "            'The company has more than one company similarity matrix')\n",
    "\n",
    "    if verbose:\n",
    "        print('-' * 40, company, '-' * 40)\n",
    "    companyName = companyInfo.loc[company,\n",
    "                                  'Dataset Company Name'] if company in companyInfo.index else company\n",
    "\n",
    "    # Retrieve the company similarities\n",
    "    companySimilarities = companySimilarities_df.loc[company].rename(\n",
    "        'Similarity').to_frame()\n",
    "\n",
    "    # Merge with static company information (i.e., SECTOR and INDUSTRY)\n",
    "    # ['Sector', 'Industry']\n",
    "    categoricalCols = ['Sector', 'Industry',\n",
    "                       'Country of Headquarters', 'Minor Region of Headquarters']\n",
    "    dateCols = ['Date of Incorporation', 'Date Became Public']\n",
    "    companySimilarities = companySimilarities.join(\n",
    "        companyInfo[categoricalCols]).drop_duplicates()\n",
    "\n",
    "    # Merge with annual company information (i.e., ESG scores and Market Cap)\n",
    "    companySimilarities = companySimilarities.join(companyFiscalYearInfo)\n",
    "\n",
    "    # Turnaround\n",
    "    companySimilarities['ESG Financial Period'] = companySimilarities['ESG Financial Period'].astype(\n",
    "        'float')\n",
    "\n",
    "    # Sort by similarity\n",
    "    companySimilarities = companySimilarities.sort_values(\n",
    "        by='Similarity', ascending=False)\n",
    "    raw_features[companyName] = companySimilarities\n",
    "\n",
    "    if verbose:\n",
    "        display(companySimilarities)\n",
    "\n",
    "    # --------------------------------------------------------------------------\n",
    "    # --------------------------------------------------------------------------\n",
    "    # --------------------------------------------------------------------------\n",
    "\n",
    "    # Compare the names with the names of reference company (i.e., Sector and Industry)\n",
    "    companyRelativeSimilarities = companySimilarities.copy()\n",
    "\n",
    "    for col in companyRelativeSimilarities.select_dtypes(include=np.number).columns:\n",
    "        if col != 'Similarity':\n",
    "            diff_methods[col] = 'Normalised similarity'\n",
    "\n",
    "    # Compute the string distance\n",
    "    for col in categoricalCols:\n",
    "        companyRelativeSimilarities[col] = companyRelativeSimilarities[col].map(\n",
    "            lambda name: embedded_stringFeatures[col].loc[name, companyRelativeSimilarities.loc[company, col]] if isinstance(name, str) else np.nan)\n",
    "        diff_methods[col] = 'Cosine similarity'\n",
    "    # companyRelativeSimilarities.loc[company, 'Similarity'] = 1\n",
    "    diff_methods['Similarity'] = 'Jaccard Similarity'\n",
    "\n",
    "    # display(companyRelativeSimilarities.loc[company].to_frame().T)\n",
    "\n",
    "    # Comparison with the reference company\n",
    "    col_to_subtract = companySimilarities.select_dtypes(\n",
    "        include=np.number).columns.tolist()\n",
    "    col_to_subtract.remove('Similarity')\n",
    "\n",
    "    # Absolute difference\n",
    "    companyRelativeSimilarities[col_to_subtract] -= companyRelativeSimilarities.loc[company, col_to_subtract]\n",
    "    companyRelativeSimilarities[col_to_subtract] = companyRelativeSimilarities[col_to_subtract].abs(\n",
    "    )\n",
    "\n",
    "    # Normalise the value in the opposite way\n",
    "    minDiff = companyRelativeSimilarities[col_to_subtract].min()\n",
    "    maxDiff = companyRelativeSimilarities[col_to_subtract].max()\n",
    "    companyRelativeSimilarities[col_to_subtract] = (\n",
    "        companyRelativeSimilarities[col_to_subtract] - maxDiff) / (minDiff - maxDiff)\n",
    "\n",
    "    # Sort values\n",
    "    companyRelativeSimilarities = companyRelativeSimilarities.sort_values(\n",
    "        by=['Similarity'], ascending=False)\n",
    "\n",
    "    # Rename the columns\n",
    "    companyRelativeSimilarities.columns = [\n",
    "        'Action Similarity'] + [col + ' [SIM]' for col in companyRelativeSimilarities.columns[1:]]\n",
    "    differences[companyName] = companyRelativeSimilarities\n",
    "\n",
    "    if verbose:\n",
    "        print('-' * 20, 'Relative similarities', '-' * 20)\n",
    "        display(companyRelativeSimilarities)\n",
    "\n",
    "    # display(companyRelativeSimilarities[companyRelativeSimilarities.isna().any(axis=1)])\n",
    "\n",
    "    # Correlation\n",
    "    pairWise_correlations = companyRelativeSimilarities.corr(\n",
    "        method=corr_method, numeric_only=True)  # METHODS: pearson, kendall, spearman\n",
    "    raw_correlations[company] = pairWise_correlations\n",
    "\n",
    "    # Compute the p-values\n",
    "\n",
    "    for col in companyRelativeSimilarities.columns:\n",
    "        if col == 'Action Similarity':\n",
    "            continue\n",
    "\n",
    "        # Pair of observation\n",
    "        x = companyRelativeSimilarities[col]\n",
    "        y = companyRelativeSimilarities['Action Similarity']\n",
    "\n",
    "        if corr_method == corr_methods[0]:\n",
    "            corr_coeff, p_value = spearmanr(a=x, b=y, nan_policy='omit')\n",
    "        elif corr_method == corr_methods[1]:\n",
    "            corr_coeff, p_value = kendalltau(x=x, y=y, nan_policy='omit')\n",
    "\n",
    "            # permuTest = permutation_test(data = (x,), permutation_type = 'pairings', statistic = lambda x: kendalltau(x = x, y = y, nan_policy = 'omit').statistic)\n",
    "            # p_value = permuTest.pvalue\n",
    "        elif corr_method == corr_methods[2]:\n",
    "            clean_data = pd.concat([x, y], axis=1).dropna(how='any')\n",
    "\n",
    "            if len(clean_data) > 0:\n",
    "                corr_coeff, p_value = pearsonr(\n",
    "                    x=clean_data.iloc[:, 0], y=clean_data.iloc[:, 1])\n",
    "            else:\n",
    "                corr_coeff, p_value = np.nan, np.nan\n",
    "        else:\n",
    "            raise NotImplemented('Correation method not implemented')\n",
    "\n",
    "        # Save the p-values\n",
    "        p_values[f'Actions | {col}'].append(p_value)\n",
    "\n",
    "        # Visualize coeff and p-value\n",
    "        # print(f'{col} <--> Action Similarities')\n",
    "        # print(f'corr: {round(corr_coeff, 4)} (p-value: {round(p_value, 4)})')\n",
    "    # display(pairWise_correlations['Action Similarity'])\n",
    "\n",
    "    for feature, correlation in pairWise_correlations['Action Similarity'].items():\n",
    "        correlations[feature][companyName] = correlation\n",
    "\n",
    "    if verbose:\n",
    "        display(pairWise_correlations['Action Similarity'].round(\n",
    "            decimals=4).sort_values(ascending=False))\n",
    "\n",
    "correlations = pd.DataFrame(correlations)\n",
    "aggregated_correlations = correlations.describe().drop(\n",
    "    index=['25%', '75%']).T.sort_values(by=['mean', 'std'], ascending=[False, True])\n",
    "aggregated_correlations.rename(columns={'50%': 'median'}, inplace=True)\n",
    "\n",
    "# P-values\n",
    "p_values = pd.DataFrame(p_values)\n",
    "p_values_stats = p_values.describe().drop(\n",
    "    index=['25%', '75%']).T.sort_values(by=['50%', 'std'], ascending=True)\n",
    "p_values_stats.rename(columns={'50%': 'median'}, inplace=True)\n",
    "display(p_values_stats)\n",
    "\n",
    "print('\\nSignifiant values')\n",
    "significantepValues_counter = p_values.applymap(\n",
    "    lambda p_value: 1 if p_value < 0.05 else 0).sum() / len(p_values)\n",
    "significantepValues_counter = significantepValues_counter.round(2).rename(\n",
    "    'Signifiance counter (%)').sort_values(ascending=False).to_frame()\n",
    "display(significantepValues_counter)\n"
   ]
  },
  {
   "cell_type": "code",
   "execution_count": null,
   "metadata": {},
   "outputs": [],
   "source": [
    "display(aggregated_correlations)\n",
    "display(correlations)"
   ]
  },
  {
   "cell_type": "markdown",
   "metadata": {},
   "source": [
    "# Save outcomes"
   ]
  },
  {
   "cell_type": "markdown",
   "metadata": {},
   "source": [
    "## Create the saving folder"
   ]
  },
  {
   "cell_type": "code",
   "execution_count": null,
   "metadata": {},
   "outputs": [],
   "source": [
    "saving_path = path.join('..', 'outputs', 'ESG_correlations' + ('_debug'if debug else ''))\n",
    "sub_saving_path = path.join(saving_path, 'raw')\n",
    "\n",
    "if not path.exists(sub_saving_path):\n",
    "   makedirs(sub_saving_path)"
   ]
  },
  {
   "cell_type": "markdown",
   "metadata": {},
   "source": [
    "## Save the dataframes"
   ]
  },
  {
   "cell_type": "code",
   "execution_count": null,
   "metadata": {},
   "outputs": [],
   "source": [
    "with pd.ExcelWriter(path.join(saving_path, f'{corr_method}Correlations.xlsx')) as writer:\n",
    "    aggregated_correlations.to_excel(writer, sheet_name = 'Correlations')\n",
    "    correlations.to_excel(writer, sheet_name = 'Raw Correlations')\n",
    "    \n",
    "    missingInfo_df = pd.Series(missing_information).sort_index().astype(pd.Int32Dtype())\n",
    "    missingInfo_df.loc[list(missing_companies)] = pd.NA\n",
    "    missingInfo_df.name = 'Missing Information'\n",
    "    missingInfo_df.to_excel(writer, sheet_name = 'Missing Information')\n",
    "    \n",
    "    pd.Series(diff_methods).to_excel(writer, sheet_name = 'Methods')\n",
    "\n",
    "with pd.ExcelWriter(path.join(sub_saving_path, 'rawDifferences.xlsx')) as writer:\n",
    "    for company, difference_df in differences.items():\n",
    "        difference_df.to_excel(writer, sheet_name = company[:30])\n",
    "\n",
    "with pd.ExcelWriter(path.join(sub_saving_path, 'rawFeatures.xlsx')) as writer:\n",
    "    for company, feature_df in raw_features.items():\n",
    "        feature_df.to_excel(writer, sheet_name = company[:30])\n",
    "\n",
    "with pd.ExcelWriter(path.join(sub_saving_path, f'pValues.xlsx')) as writer:\n",
    "        significantepValues_counter.to_excel(writer, sheet_name = 'Signifiance counter')\n",
    "        p_values_stats.to_excel(writer, sheet_name = 'stats')\n",
    "        p_values.to_excel(writer, sheet_name = 'p-values')"
   ]
  },
  {
   "cell_type": "markdown",
   "metadata": {},
   "source": [
    "# Generate graphs"
   ]
  },
  {
   "cell_type": "code",
   "execution_count": null,
   "metadata": {},
   "outputs": [],
   "source": [
    "graph_path = path.join(saving_path,'graphs', corr_method)\n",
    "if not path.exists(graph_path):\n",
    "    makedirs(graph_path)"
   ]
  },
  {
   "cell_type": "markdown",
   "metadata": {},
   "source": [
    "## Correlation distributions as boxplots"
   ]
  },
  {
   "cell_type": "code",
   "execution_count": null,
   "metadata": {},
   "outputs": [],
   "source": [
    "color_set = [\"#b2df8a\", \"#BBDEFB\", \"#01579B\"]\n",
    "colors = np.concatenate([np.repeat(color_set[0], 4), np.repeat(color_set[1], 4), np.repeat(color_set[2], 5)])\n",
    "\n",
    "# Sort the columns\n",
    "sorted_columns = correlations.mean().rename('mean').drop('Action Similarity').to_frame()\n",
    "sorted_columns['color'] = colors\n",
    "sorted_columns = sorted_columns.sort_values(by = ['color', 'mean'], ascending = [False, True]).index.tolist()\n",
    "\n",
    "plt.figure(figsize = (8, 6))\n",
    "sns.boxplot(data = correlations[sorted_columns], orient = 'h', palette =  sns.set_palette(sns.color_palette(palette = colors))) #\n",
    "plt.vlines(x = 0, ymin = -1, ymax = len(correlations.columns) - 1, colors = 'black', linestyles = '-', alpha = .3)\n",
    "\n",
    "plt.xlabel(f'{corr_method.capitalize()} correlation', fontsize = 20, labelpad = 5)\n",
    "plt.ylabel('Features', fontsize = 20, labelpad = 10)\n",
    "plt.grid(alpha = .3, axis = 'x')\n",
    "plt.grid(alpha = .2, axis = 'y')\n",
    "\n",
    "plt.savefig(path.join(graph_path, f'{corr_method}CorrelationDistribution.pdf'), bbox_inches = 'tight')"
   ]
  },
  {
   "cell_type": "markdown",
   "metadata": {},
   "source": [
    "## Distribution of the similarity features"
   ]
  },
  {
   "cell_type": "code",
   "execution_count": null,
   "metadata": {},
   "outputs": [],
   "source": [
    "raw_differeces_df = pd.concat(differences.values(), axis = 'index')\n",
    "raw_differeces_df = raw_differeces_df[raw_differeces_df['Action Similarity'] != 1].fillna(value = 0)\n",
    "#display(raw_differeces_df)\n",
    "\n",
    "plt.figure(figsize = (10, 5))\n",
    "sns.boxplot(data = raw_differeces_df, orient = 'h', palette = sns.set_palette(sns.color_palette(palette = np.concatenate([[\"#33a02c\"], colors]))))\n",
    "\n",
    "plt.ylabel('Features', fontsize = 20, labelpad = 10)\n",
    "plt.xlabel('Relative similarity', fontsize = 20, labelpad = 10)\n",
    "plt.gca().xaxis.set_major_formatter(PercentFormatter(xmax=1, decimals = 0))\n",
    "plt.grid(alpha = .2, axis = 'x')\n",
    "plt.grid(alpha = .1, axis = 'y')\n",
    "#plt.legend()\n",
    "\n",
    "plt.savefig(path.join(graph_path,'..', 'featureSimilarityDistribution.pdf'), bbox_inches = 'tight')"
   ]
  },
  {
   "cell_type": "markdown",
   "metadata": {},
   "source": [
    "## Distribution of p-values"
   ]
  },
  {
   "cell_type": "code",
   "execution_count": null,
   "metadata": {},
   "outputs": [],
   "source": [
    "plt.figure(figsize = (10, 5))\n",
    "sns.boxplot(data = p_values, orient = 'h', palette =  sns.set_palette(sns.color_palette(palette = colors)))\n",
    "plt.axvline(x = 0.05, ymin = -1, ymax = len(p_values.columns) - 1, color = 'black', linestyle = '--', alpha = .5, label = 'Conventional \\nthreshold (5%)')\n",
    "plt.xlabel('p-value', fontsize = 20, labelpad = 10)\n",
    "plt.grid(alpha = .2, axis = 'x')\n",
    "plt.grid(alpha = .1, axis = 'y')\n",
    "plt.gca().xaxis.set_major_formatter(PercentFormatter(xmax=1, decimals = 0))\n",
    "plt.title('Entire distribution', fontsize = 20, pad = 20)\n",
    "plt.legend(loc = 'upper right', fontsize = 12)\n",
    "plt.savefig(path.join(graph_path, 'pValuesEntireDistribution.pdf'), bbox_inches = 'tight')\n",
    "plt.show()\n",
    "\n",
    "# Focus on the 0.05 threshold\n",
    "plt.figure(figsize = (10, 5))\n",
    "sns.boxplot(data = p_values, orient = 'h', palette = sns.set_palette(sns.color_palette(palette = np.concatenate([[\"#33a02c\"], colors]))))\n",
    "plt.axvline(x = 0.05, ymin = -1, ymax = len(p_values.columns) - 1, color = 'black', linestyle = '--', alpha = .5, label = 'Conventional \\nthreshold (5%)')\n",
    "plt.xlabel('p-value', fontsize = 20, labelpad = 10)\n",
    "plt.gca().set_yticklabels([])\n",
    "plt.grid(alpha = .2, axis = 'x')\n",
    "plt.grid(alpha = .1, axis = 'y')\n",
    "plt.gca().xaxis.set_major_formatter(PercentFormatter(xmax=1, decimals = 0))\n",
    "plt.title('Distribution focused on the conventional threshold\\nfor statistical significance', fontsize = 20, pad = 10)\n",
    "plt.xlim(left = -0.002, right = 0.1)\n",
    "plt.legend(fontsize = 12) #, loc = 'auto'\n",
    "\n",
    "plt.savefig(path.join(graph_path, 'pValuesFocusedDistribution.pdf'), bbox_inches = 'tight')\n",
    "plt.show()"
   ]
  },
  {
   "cell_type": "markdown",
   "metadata": {},
   "source": [
    "## Pair-wise averaged correlations as an heat map"
   ]
  },
  {
   "cell_type": "code",
   "execution_count": null,
   "metadata": {},
   "outputs": [],
   "source": [
    "raw_aggregatedCorrelations = pd.concat(list(raw_correlations.values()))#.mean(axis = 0)\n",
    "raw_aggregatedCorrelations = raw_aggregatedCorrelations.groupby(raw_aggregatedCorrelations.index).mean()\n",
    "raw_aggregatedCorrelations = raw_aggregatedCorrelations[raw_aggregatedCorrelations.index]\n",
    "\n",
    "_, ordered_indices, _ = reorder_matrix(raw_aggregatedCorrelations.to_numpy())\n",
    "raw_aggregatedCorrelations = raw_aggregatedCorrelations.iloc[ordered_indices, ordered_indices]\n",
    "\n",
    "plt.figure(figsize = (8, 6))\n",
    "sns.heatmap(raw_aggregatedCorrelations,  cmap = 'coolwarm', vmin = -1, vmax = 1, linewidth = .5, cbar_kws={\"shrink\": .4, \"location\": 'right', 'pad': -0.05},\n",
    "            mask = np.triu(np.ones_like(raw_aggregatedCorrelations)), fmt = '.1f', annot = True, annot_kws = {'fontsize': 8})\n",
    "plt.ylabel('Features', fontsize = 20, labelpad = 10)\n",
    "plt.xlabel('Features', fontsize = 20, labelpad = 10)\n",
    "plt.savefig(path.join(graph_path, f'{corr_method}AveragedpairWiseCorrelations.pdf'), bbox_inches = 'tight')\n",
    "plt.show()"
   ]
  },
  {
   "cell_type": "code",
   "execution_count": null,
   "metadata": {},
   "outputs": [],
   "source": [
    "from statsmodels.stats.diagnostic import normal_ad"
   ]
  },
  {
   "cell_type": "code",
   "execution_count": null,
   "metadata": {},
   "outputs": [],
   "source": [
    "\n",
    "#file_path = path.join('..', 'outputs', 'ESG_correlations_normSim', f'{corr_method}Correlations.xlsx')\n",
    "#raw_correlations = pd.read_excel(file_path, index_col = [0], sheet_name = 'Raw Correlations')\n",
    "#display(raw_correlations)\n",
    "#raw_correlations = pd.concat(list(raw_correlations.values()))\n",
    "#display(raw_correlations)\n",
    "\n",
    "plt.rcParams['font.size'] = '14'\n",
    "\n",
    "#df = correlations\n",
    "df = raw_differeces_df\n",
    "\n",
    "g = sns.FacetGrid(pd.DataFrame(df.columns), col = 0,  col_wrap = 5, sharex=False, height = 5, aspect=1)\n",
    "for ax, col in zip(g.axes, df.columns):\n",
    "    \n",
    "    test_value, normality_pvalue = normal_ad(df[col])\n",
    "    isNormal = False if normality_pvalue < 0.05 else True\n",
    "    \n",
    "    #print(f'[{col}] Values:', '' if isNormal else 'NOT' , 'normally distributed',  f'(p-value = {round(normality_pvalue, 4)})')\n",
    "\n",
    "    #sns.scatterplot(data = raw_correlations, x = x_var, y = data_names['y'], alpha = 0.5, s = 10, ax = ax, color = 'firebrick')\n",
    "    sns.histplot(data = df, x = col, kde = True, ax = ax, color = 'firebrick', bins = 10) # bins = 'auto'\n",
    "    \n",
    "    #ax.set_ylabel(data_names['y'], fontsize = 25, labelpad = 10, color = 'firebrick')\n",
    "    ax.set_xlabel(('[' if isNormal else '[not ') + f'normal (p-value: {round(normality_pvalue, 3)})]', labelpad = 5)\n",
    "    \n",
    "    #ax.yaxis.set_major_formatter(PercentFormatter(xmax = 1, decimals = 0))\n",
    "g.set_titles(col_template = '{col_name}', color = 'firebrick',  fontsize = 20) #\n",
    "\n",
    "#g.set_suptitle(data_names['y'], y = 1.05, fontsize = 20)\n",
    "g.tight_layout(pad = 2)\n",
    "g.savefig(path.join(graph_path, '..', f'featureSimilarityPairPlot.pdf'))\n",
    "plt.show()"
   ]
  }
 ],
 "metadata": {
  "kernelspec": {
   "display_name": ".venv",
   "language": "python",
   "name": "python3"
  },
  "language_info": {
   "codemirror_mode": {
    "name": "ipython",
    "version": 3
   },
   "file_extension": ".py",
   "mimetype": "text/x-python",
   "name": "python",
   "nbconvert_exporter": "python",
   "pygments_lexer": "ipython3",
   "version": "3.11.0"
  },
  "orig_nbformat": 4
 },
 "nbformat": 4,
 "nbformat_minor": 2
}
